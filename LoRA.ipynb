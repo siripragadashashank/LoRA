{
 "cells": [
  {
   "cell_type": "markdown",
   "id": "e24d3f8f-be8b-4f91-ba74-487fba661f51",
   "metadata": {},
   "source": [
    "## LoRA implementation with PyTorch"
   ]
  },
  {
   "cell_type": "code",
   "execution_count": 14,
   "id": "dc474914-92d3-42a5-8be3-3dfc59556e80",
   "metadata": {},
   "outputs": [],
   "source": [
    "import torch\n",
    "import torchvision.datasets as datasets \n",
    "import torchvision.transforms as transforms\n",
    "import torch.nn as nn\n",
    "import matplotlib.pyplot as plt\n",
    "from tqdm import tqdm"
   ]
  },
  {
   "cell_type": "code",
   "execution_count": 15,
   "id": "ff418cb3-3851-4c62-b9d8-8fc0236593b6",
   "metadata": {},
   "outputs": [],
   "source": [
    "# Make torch deterministic\n",
    "_ = torch.manual_seed(0)"
   ]
  },
  {
   "cell_type": "markdown",
   "id": "b8f010ad-b403-4bb2-818b-cb6a13e5ef36",
   "metadata": {},
   "source": [
    "### We will be training a network to classify MNIST digits and then fine-tune the network on a particular digit on which it doesn't perform well."
   ]
  },
  {
   "cell_type": "code",
   "execution_count": 16,
   "id": "114d5fd6-95de-4832-a32a-8353ad4961d9",
   "metadata": {},
   "outputs": [],
   "source": [
    "transform = transforms.Compose([transforms.ToTensor(), transforms.Normalize((0.1307,), (0.3081,))])\n",
    "\n",
    "# Load the MNIST dataset\n",
    "mnist_trainset = datasets.MNIST(root='./data', \n",
    "                                train=True, \n",
    "                                download=True, \n",
    "                                transform=transform)\n",
    "\n",
    "# Create a dataloader for the training\n",
    "train_loader = torch.utils.data.DataLoader(mnist_trainset, \n",
    "                                           batch_size=10, \n",
    "                                           shuffle=True)\n",
    "\n",
    "# Load the MNIST test set\n",
    "mnist_testset = datasets.MNIST(root='./data', \n",
    "                               train=False, \n",
    "                               download=True, \n",
    "                               transform=transform)\n",
    "\n",
    "test_loader = torch.utils.data.DataLoader(mnist_testset, batch_size=10, shuffle=True)\n",
    "\n",
    "# Define the device\n",
    "device = torch.device(\"cuda:0\" if torch.cuda.is_available() else \"cpu\")"
   ]
  },
  {
   "cell_type": "markdown",
   "id": "7cee35d3-f367-4d26-90f9-7236f6ac7047",
   "metadata": {},
   "source": [
    "### Create the Neural Network to classify the digits, making it deep (more parameters) to better show the power of LoRA"
   ]
  },
  {
   "cell_type": "code",
   "execution_count": 42,
   "id": "1d33e03b-0d32-40aa-b1ad-90812e6ac8f3",
   "metadata": {},
   "outputs": [],
   "source": [
    "# Create an deep neural network to classify MNIST digits\n",
    "\n",
    "class NNet(nn.Module):\n",
    "    def __init__(self, hidden_size_1=1000, hidden_size_2=2000):\n",
    "        super(NNet,self).__init__()\n",
    "        self.linear1 = nn.Linear(28*28, hidden_size_1) \n",
    "        self.linear2 = nn.Linear(hidden_size_1, hidden_size_2) \n",
    "        self.linear3 = nn.Linear(hidden_size_2, 10)\n",
    "        self.relu = nn.ReLU()\n",
    "\n",
    "    def forward(self, img):\n",
    "        x = img.view(-1, 28*28)\n",
    "        x = self.relu(self.linear1(x))\n",
    "        x = self.relu(self.linear2(x))\n",
    "        x = self.linear3(x)\n",
    "        return x\n",
    "\n",
    "net = NNet().to(device)"
   ]
  },
  {
   "cell_type": "code",
   "execution_count": 43,
   "id": "fcbf4c04-9801-4d06-be65-6bd4a3dec0cf",
   "metadata": {},
   "outputs": [
    {
     "data": {
      "text/plain": [
       "NNet(\n",
       "  (linear1): Linear(in_features=784, out_features=1000, bias=True)\n",
       "  (linear2): Linear(in_features=1000, out_features=2000, bias=True)\n",
       "  (linear3): Linear(in_features=2000, out_features=10, bias=True)\n",
       "  (relu): ReLU()\n",
       ")"
      ]
     },
     "execution_count": 43,
     "metadata": {},
     "output_type": "execute_result"
    }
   ],
   "source": [
    "net"
   ]
  },
  {
   "cell_type": "markdown",
   "id": "ac2c9bec-ff4b-4250-aa91-58ddaf2f478e",
   "metadata": {},
   "source": [
    "A scaled down representation of the neural network"
   ]
  },
  {
   "cell_type": "markdown",
   "id": "6c41843f-2cfc-4a5b-ba23-dbe46ab8a4a2",
   "metadata": {},
   "source": [
    "<div style=\"width: 1200px;\">Neural Network scaled down</div>\n",
    "<center><img src=\"./assets/nn.svg\" width=\"1200\"></center>"
   ]
  },
  {
   "cell_type": "markdown",
   "id": "70efc1eb-05b0-40d4-b892-af840b9db8e6",
   "metadata": {},
   "source": [
    "### Set the optimizer and loss for our network training."
   ]
  },
  {
   "cell_type": "code",
   "execution_count": 44,
   "id": "6946dd39-d63a-4ad4-9cd7-1a1e0543b5de",
   "metadata": {},
   "outputs": [],
   "source": [
    "loss_fn = nn.CrossEntropyLoss()\n",
    "optimizer = torch.optim.Adam(net.parameters(), lr=1e-3)"
   ]
  },
  {
   "cell_type": "markdown",
   "id": "e55723f4-e89a-460b-87a5-835dc789f761",
   "metadata": {},
   "source": [
    "#### Training function"
   ]
  },
  {
   "cell_type": "code",
   "execution_count": 51,
   "id": "e8439534-8368-40a2-9ab9-1bde55964e60",
   "metadata": {},
   "outputs": [
    {
     "name": "stderr",
     "output_type": "stream",
     "text": [
      "Epoch {epoch}:   0%|                                                            | 0/6000 [00:00<?, ?it/s, loss=3.31e-5]\n"
     ]
    }
   ],
   "source": [
    "def train(train_loader, net, epochs=1, num_iters=None):\n",
    "    iters = 0\n",
    "    net.train()\n",
    "    for epoch in range(epochs):\n",
    "        total_loss = 0\n",
    "        iterations = 0\n",
    "        train_data = tqdm(train_loader, desc='Epoch {epoch}')\n",
    "        for data in train_data:\n",
    "            optimizer.zero_grad()\n",
    "            iterations += 1\n",
    "            X, y = data\n",
    "            X, y = X.to(device), y.to(device)\n",
    "            output = net(X.view(-1, 28*28))\n",
    "            loss = loss_fn(output, y)\n",
    "            total_loss += loss.item()\n",
    "            running_loss = total_loss / iterations\n",
    "            train_data.set_postfix(loss=running_loss)\n",
    "            loss.backward()\n",
    "            optimizer.step()\n",
    "            \n",
    "\n",
    "            break\n",
    "                    \n",
    "train(train_loader, net, epochs=1)"
   ]
  },
  {
   "cell_type": "code",
   "execution_count": null,
   "id": "3403d1bf-c0d9-4bad-81e4-c7484898676b",
   "metadata": {},
   "outputs": [],
   "source": []
  }
 ],
 "metadata": {
  "kernelspec": {
   "display_name": "Python 3 (ipykernel)",
   "language": "python",
   "name": "python3"
  },
  "language_info": {
   "codemirror_mode": {
    "name": "ipython",
    "version": 3
   },
   "file_extension": ".py",
   "mimetype": "text/x-python",
   "name": "python",
   "nbconvert_exporter": "python",
   "pygments_lexer": "ipython3",
   "version": "3.10.13"
  }
 },
 "nbformat": 4,
 "nbformat_minor": 5
}
