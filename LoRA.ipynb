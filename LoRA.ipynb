{
 "cells": [
  {
   "cell_type": "markdown",
   "id": "e24d3f8f-be8b-4f91-ba74-487fba661f51",
   "metadata": {},
   "source": [
    "## LoRA implementation with PyTorch"
   ]
  },
  {
   "cell_type": "code",
   "execution_count": 3,
   "id": "dc474914-92d3-42a5-8be3-3dfc59556e80",
   "metadata": {},
   "outputs": [],
   "source": [
    "import torch\n",
    "import torchvision.datasets as datasets \n",
    "import torchvision.transforms as transforms\n",
    "import torch.nn as nn\n",
    "import matplotlib.pyplot as plt\n",
    "from tqdm import tqdm"
   ]
  },
  {
   "cell_type": "code",
   "execution_count": 4,
   "id": "ff418cb3-3851-4c62-b9d8-8fc0236593b6",
   "metadata": {},
   "outputs": [],
   "source": [
    "# Make torch deterministic\n",
    "_ = torch.manual_seed(0)"
   ]
  },
  {
   "cell_type": "markdown",
   "id": "b8f010ad-b403-4bb2-818b-cb6a13e5ef36",
   "metadata": {},
   "source": [
    "### We will be training a network to classify MNIST digits and then fine-tune the network on a particular digit on which it doesn't perform well."
   ]
  },
  {
   "cell_type": "code",
   "execution_count": 5,
   "id": "114d5fd6-95de-4832-a32a-8353ad4961d9",
   "metadata": {},
   "outputs": [],
   "source": [
    "transform = transforms.Compose([transforms.ToTensor(), transforms.Normalize((0.1307,), (0.3081,))])\n",
    "\n",
    "# Load the MNIST dataset\n",
    "mnist_trainset = datasets.MNIST(root='./data', \n",
    "                                train=True, \n",
    "                                download=True, \n",
    "                                transform=transform)\n",
    "\n",
    "# Create a dataloader for the training\n",
    "train_loader = torch.utils.data.DataLoader(mnist_trainset, \n",
    "                                           batch_size=10, \n",
    "                                           shuffle=True)\n",
    "\n",
    "# Load the MNIST test set\n",
    "mnist_testset = datasets.MNIST(root='./data', \n",
    "                               train=False, \n",
    "                               download=True, \n",
    "                               transform=transform)\n",
    "\n",
    "test_loader = torch.utils.data.DataLoader(mnist_testset, batch_size=10, shuffle=True)\n",
    "\n",
    "# Define the device\n",
    "device = torch.device(\"cuda:0\" if torch.cuda.is_available() else \"cpu\")"
   ]
  },
  {
   "cell_type": "markdown",
   "id": "7cee35d3-f367-4d26-90f9-7236f6ac7047",
   "metadata": {},
   "source": [
    "### Create the Neural Network to classify the digits, making it deep (more parameters) to better show the power of LoRA"
   ]
  },
  {
   "cell_type": "code",
   "execution_count": 6,
   "id": "1d33e03b-0d32-40aa-b1ad-90812e6ac8f3",
   "metadata": {},
   "outputs": [],
   "source": [
    "# Create an deep neural network to classify MNIST digits\n",
    "\n",
    "class NNet(nn.Module):\n",
    "    def __init__(self, hidden_size_1=1000, hidden_size_2=2000):\n",
    "        super(NNet,self).__init__()\n",
    "        self.linear1 = nn.Linear(28*28, hidden_size_1) \n",
    "        self.linear2 = nn.Linear(hidden_size_1, hidden_size_2) \n",
    "        self.linear3 = nn.Linear(hidden_size_2, 10)\n",
    "        self.relu = nn.ReLU()\n",
    "\n",
    "    def forward(self, img):\n",
    "        x = img.view(-1, 28*28)\n",
    "        x = self.relu(self.linear1(x))\n",
    "        x = self.relu(self.linear2(x))\n",
    "        x = self.linear3(x)\n",
    "        return x\n",
    "\n",
    "net = NNet().to(device)"
   ]
  },
  {
   "cell_type": "code",
   "execution_count": 7,
   "id": "fcbf4c04-9801-4d06-be65-6bd4a3dec0cf",
   "metadata": {},
   "outputs": [
    {
     "data": {
      "text/plain": [
       "NNet(\n",
       "  (linear1): Linear(in_features=784, out_features=1000, bias=True)\n",
       "  (linear2): Linear(in_features=1000, out_features=2000, bias=True)\n",
       "  (linear3): Linear(in_features=2000, out_features=10, bias=True)\n",
       "  (relu): ReLU()\n",
       ")"
      ]
     },
     "execution_count": 7,
     "metadata": {},
     "output_type": "execute_result"
    }
   ],
   "source": [
    "net"
   ]
  },
  {
   "cell_type": "markdown",
   "id": "ac2c9bec-ff4b-4250-aa91-58ddaf2f478e",
   "metadata": {},
   "source": [
    "A scaled down representation of the neural network"
   ]
  },
  {
   "cell_type": "markdown",
   "id": "6c41843f-2cfc-4a5b-ba23-dbe46ab8a4a2",
   "metadata": {},
   "source": [
    "<div style=\"width: 1200px;\">Neural Network scaled down</div>\n",
    "<center><img src=\"./assets/nn.svg\" width=\"1200\"></center>"
   ]
  },
  {
   "cell_type": "markdown",
   "id": "70efc1eb-05b0-40d4-b892-af840b9db8e6",
   "metadata": {},
   "source": [
    "### Set the optimizer and loss for our network training."
   ]
  },
  {
   "cell_type": "code",
   "execution_count": 8,
   "id": "6946dd39-d63a-4ad4-9cd7-1a1e0543b5de",
   "metadata": {},
   "outputs": [],
   "source": [
    "loss_fn = nn.CrossEntropyLoss()\n",
    "optimizer = torch.optim.Adam(net.parameters(), lr=1e-3)"
   ]
  },
  {
   "cell_type": "markdown",
   "id": "e55723f4-e89a-460b-87a5-835dc789f761",
   "metadata": {},
   "source": [
    "#### Training function"
   ]
  },
  {
   "cell_type": "markdown",
   "id": "ae893cb4-18c3-4a40-9984-025ef800bdfb",
   "metadata": {},
   "source": [
    "Training for 1 epoch to get some pretraining on the data, so that we can fine-tune later."
   ]
  },
  {
   "cell_type": "code",
   "execution_count": 9,
   "id": "e8439534-8368-40a2-9ab9-1bde55964e60",
   "metadata": {},
   "outputs": [
    {
     "name": "stderr",
     "output_type": "stream",
     "text": [
      "Epoch 0: 100%|█████████████████████████████████████████████████████████| 6000/6000 [01:22<00:00, 72.56it/s, loss=0.238]\n"
     ]
    }
   ],
   "source": [
    "def train(train_loader, net, epochs=1, num_iters=None):\n",
    "    for epoch in range(epochs):\n",
    "        net.train()\n",
    "        total_loss = 0\n",
    "        iterations = 0\n",
    "        train_data = tqdm(train_loader, desc=f'Epoch {epoch}')\n",
    "        if num_iters is not None:\n",
    "            train_data.total = num_iters\n",
    "        for data in train_data:\n",
    "            optimizer.zero_grad()\n",
    "            iterations += 1\n",
    "            X, y = data\n",
    "            X, y = X.to(device), y.to(device)\n",
    "            output = net(X.view(-1, 28*28))\n",
    "            loss = loss_fn(output, y)\n",
    "            total_loss += loss.item()\n",
    "            running_loss = total_loss / iterations\n",
    "            train_data.set_postfix(loss=running_loss)\n",
    "            loss.backward()\n",
    "            optimizer.step()\n",
    "            if num_iters is not None and iterations >= num_iters:\n",
    "                return\n",
    "                    \n",
    "train(train_loader, net, epochs=1)"
   ]
  },
  {
   "cell_type": "markdown",
   "id": "ead79900-6216-4747-9af5-84d5c3e20fdf",
   "metadata": {},
   "source": [
    "### Keep a copy of the original weights (cloning them) so later we can prove that a fine-tuning with LoRA doesn't alter the original weights\r\n"
   ]
  },
  {
   "cell_type": "code",
   "execution_count": 10,
   "id": "77bd94b6-e473-4654-a569-017edcc20c59",
   "metadata": {},
   "outputs": [],
   "source": [
    "original_weights = {}\n",
    "for name, param in net.named_parameters():\n",
    "    original_weights[name] = param.clone().detach()"
   ]
  },
  {
   "cell_type": "code",
   "execution_count": 11,
   "id": "1cc2817a-a099-44d6-a8b6-d16c6bd198d8",
   "metadata": {},
   "outputs": [
    {
     "data": {
      "text/plain": [
       "dict_keys(['linear1.weight', 'linear1.bias', 'linear2.weight', 'linear2.bias', 'linear3.weight', 'linear3.bias'])"
      ]
     },
     "execution_count": 11,
     "metadata": {},
     "output_type": "execute_result"
    }
   ],
   "source": [
    "original_weights.keys()"
   ]
  },
  {
   "cell_type": "markdown",
   "id": "8b449520-3299-4cc3-88b5-f015fa7bf43d",
   "metadata": {},
   "source": [
    "#### Get the number of parameters in the neural net"
   ]
  },
  {
   "cell_type": "code",
   "execution_count": 12,
   "id": "3d4020cb-7b28-4b8f-8e63-d2d20fdb44a1",
   "metadata": {},
   "outputs": [
    {
     "name": "stdout",
     "output_type": "stream",
     "text": [
      "Layer: linear1.weight Shape: torch.Size([1000, 784])\n",
      "Layer: linear1.bias Shape: torch.Size([1000])\n",
      "Layer: linear2.weight Shape: torch.Size([2000, 1000])\n",
      "Layer: linear2.bias Shape: torch.Size([2000])\n",
      "Layer: linear3.weight Shape: torch.Size([10, 2000])\n",
      "Layer: linear3.bias Shape: torch.Size([10])\n",
      "\n",
      "Total number of trainable params in original neural net: 2807010\n"
     ]
    }
   ],
   "source": [
    "def get_param_count(neural_net):\n",
    "    param_count = 0\n",
    "    for name, param in neural_net.named_parameters():\n",
    "        print(f'Layer: {name} Shape: {param.shape}')\n",
    "        param_count += param.nelement()\n",
    "    return param_count\n",
    "param_count = get_param_count(neural_net=net)\n",
    "print(f'\\nTotal number of trainable params in original neural net: {param_count}')"
   ]
  },
  {
   "cell_type": "code",
   "execution_count": 13,
   "id": "62acd3fb-98fc-481a-80aa-b24020a69694",
   "metadata": {},
   "outputs": [
    {
     "name": "stderr",
     "output_type": "stream",
     "text": [
      "100%|██████████████████████████████████████████████████████████████████████████████| 1000/1000 [00:10<00:00, 93.36it/s]"
     ]
    },
    {
     "name": "stdout",
     "output_type": "stream",
     "text": [
      "Accuracy: 0.954\n",
      "wrong counts for the digit 0: 12\n",
      "wrong counts for the digit 1: 19\n",
      "wrong counts for the digit 2: 36\n",
      "wrong counts for the digit 3: 92\n",
      "wrong counts for the digit 4: 29\n",
      "wrong counts for the digit 5: 41\n",
      "wrong counts for the digit 6: 38\n",
      "wrong counts for the digit 7: 47\n",
      "wrong counts for the digit 8: 35\n",
      "wrong counts for the digit 9: 115\n"
     ]
    },
    {
     "name": "stderr",
     "output_type": "stream",
     "text": [
      "\n"
     ]
    }
   ],
   "source": [
    "# Testing on the testset to validate performance\n",
    "def test(test_loader, net):\n",
    "    num_correct, total = 0, 0\n",
    "    wrong_counts = [0 for _ in range(10)]\n",
    "    with torch.no_grad():\n",
    "        for sample in tqdm(test_loader):\n",
    "            X, y = sample\n",
    "            X, y = X.to(device), y.to(device)\n",
    "            output = net(X)\n",
    "            for idx, out in enumerate(output):\n",
    "                total += 1\n",
    "                if torch.argmax(out) == y[idx]:\n",
    "                    num_correct += 1\n",
    "                else:\n",
    "                    wrong_counts[y[idx]] += 1\n",
    "    \n",
    "    print(f'Accuracy: {round(num_correct/total, 3)}')\n",
    "    for i in range(len(wrong_counts)):\n",
    "        print(f'wrong counts for the digit {i}: {wrong_counts[i]}')\n",
    "       \n",
    "            \n",
    "test(test_loader, net)"
   ]
  },
  {
   "cell_type": "markdown",
   "id": "822d4722-591b-4291-b158-af7033407741",
   "metadata": {},
   "source": [
    "### Now Let's apply LoRA parametrization to fine-tune \n",
    "### this network for digit 9 as we saw poor performance on the digit 9\n",
    "\n",
    "\n",
    "LoRA paper: [Link](https://arxiv.org/abs/2106.09685)\n",
    "\n",
    "Paramtertrization in PyTorch: [Turtorial Link](https://pytorch.org/tutorials/intermediate/parametrizations.html)"
   ]
  },
  {
   "cell_type": "code",
   "execution_count": 14,
   "id": "bd4f195d-3030-4428-ab29-ec6128f4211c",
   "metadata": {},
   "outputs": [],
   "source": [
    "class LoRAParametrization(nn.Module):\n",
    "    def __init__(self, features_in, features_out, rank=1, alpha=1, device='cpu'):\n",
    "        super().__init__()\n",
    "        '''\n",
    "        Section 4.1 of the paper: \n",
    "          We use a random Gaussian initialization for A and zero for B, so ∆W = BA is zero at the beginning of training\n",
    "        '''\n",
    "        self.lora_A = nn.Parameter(torch.zeros((rank,features_out)).to(device))\n",
    "        self.lora_B = nn.Parameter(torch.zeros((features_in, rank)).to(device))\n",
    "        nn.init.normal_(self.lora_A, mean=0, std=1)\n",
    "\n",
    "        '''\n",
    "        Section 4.1 of the paper: \n",
    "          We then scale ∆Wx by α/r , where α is a constant in r. \n",
    "          When optimizing with Adam, tuning α is roughly the same as tuning the learning rate if we scale the initialization appropriately. \n",
    "          As a result, we simply set α to the first r we try and do not tune it. \n",
    "          This scaling helps to reduce the need to retune hyperparameters when we vary r.\n",
    "        '''\n",
    "        self.scale = alpha / rank\n",
    "        self.enabled = True\n",
    "\n",
    "    def forward(self, original_weights):\n",
    "        if self.enabled:\n",
    "            # Return W + (B*A)*scale\n",
    "            return original_weights + torch.matmul(self.lora_B, self.lora_A).view(original_weights.shape) * self.scale\n",
    "        else:\n",
    "            return original_weights"
   ]
  },
  {
   "cell_type": "markdown",
   "id": "0583002e-8ee3-48bb-aa9b-244d057e4de1",
   "metadata": {},
   "source": [
    "### Add the LoRA parameterization to our network"
   ]
  },
  {
   "cell_type": "code",
   "execution_count": 15,
   "id": "7c3cb6f2-55cb-413d-a228-19787ba4bca6",
   "metadata": {},
   "outputs": [],
   "source": [
    "import torch.nn.utils.parametrize as parametrize\n",
    "\n",
    "def linear_layer_parameterization(layer, device, rank=1, lora_alpha=1):\n",
    "    # Only add the parameterization to the weight matrix, ignore the Bias\n",
    "\n",
    "    # From section 4.2 of the paper:\n",
    "    #   We limit our study to only adapting the attention weights for downstream tasks and freeze the MLP modules (so they are not trained in downstream tasks) both for simplicity and parameter-efficiency.\n",
    "    #   [...]\n",
    "    #   We leave the empirical investigation of [...], and biases to a future work.\n",
    "    \n",
    "    features_in, features_out = layer.weight.shape\n",
    "    return LoRAParametrization(\n",
    "        features_in, features_out, rank=rank, alpha=lora_alpha, device=device\n",
    "    )\n",
    "\n",
    "parametrize.register_parametrization(\n",
    "    net.linear1, \"weight\", linear_layer_parameterization(net.linear1, device)\n",
    ")\n",
    "parametrize.register_parametrization(\n",
    "    net.linear2, \"weight\", linear_layer_parameterization(net.linear2, device)\n",
    ")\n",
    "parametrize.register_parametrization(\n",
    "    net.linear3, \"weight\", linear_layer_parameterization(net.linear3, device)\n",
    ")\n",
    "\n",
    "\n",
    "def enable_disable_lora(enabled=True):\n",
    "    for layer in [net.linear1, net.linear2, net.linear3]:\n",
    "        layer.parametrizations[\"weight\"][0].enabled = enabled"
   ]
  },
  {
   "cell_type": "code",
   "execution_count": 16,
   "id": "9b1bc868-d5d3-4088-ba69-537b7af025bc",
   "metadata": {},
   "outputs": [
    {
     "name": "stdout",
     "output_type": "stream",
     "text": [
      "Layer 1: W: torch.Size([1000, 784]) + B: torch.Size([1000]) + Lora_A: torch.Size([1, 784]) + Lora_B: torch.Size([1000, 1])\n",
      "Layer 2: W: torch.Size([2000, 1000]) + B: torch.Size([2000]) + Lora_A: torch.Size([1, 1000]) + Lora_B: torch.Size([2000, 1])\n",
      "Layer 3: W: torch.Size([10, 2000]) + B: torch.Size([10]) + Lora_A: torch.Size([1, 2000]) + Lora_B: torch.Size([10, 1])\n",
      "Total number of parameters (original): 2,807,010\n",
      "Total number of parameters (original + LoRA): 2,813,804\n",
      "Parameters introduced by LoRA: 6,794\n",
      "Parameters incremment: 0.242%\n"
     ]
    }
   ],
   "source": [
    "total_parameters_lora = 0\n",
    "total_parameters_non_lora = 0\n",
    "for index, layer in enumerate([net.linear1, net.linear2, net.linear3]):\n",
    "    total_parameters_lora += layer.parametrizations[\"weight\"][0].lora_A.nelement() + layer.parametrizations[\"weight\"][0].lora_B.nelement()\n",
    "    total_parameters_non_lora += layer.weight.nelement() + layer.bias.nelement()\n",
    "    print(\n",
    "        f'Layer {index+1}: W: {layer.weight.shape} + B: {layer.bias.shape} + Lora_A: {layer.parametrizations[\"weight\"][0].lora_A.shape} + Lora_B: {layer.parametrizations[\"weight\"][0].lora_B.shape}'\n",
    "    )\n",
    "\n",
    "# The non-LoRA parameters count must match the original network\n",
    "assert total_parameters_non_lora == param_count\n",
    "print(f'Total number of parameters (original): {total_parameters_non_lora:,}')\n",
    "print(f'Total number of parameters (original + LoRA): {total_parameters_lora + total_parameters_non_lora:,}')\n",
    "print(f'Parameters introduced by LoRA: {total_parameters_lora:,}')\n",
    "parameters_incremment = (total_parameters_lora / total_parameters_non_lora) * 100\n",
    "print(f'Parameters incremment: {parameters_incremment:.3f}%')"
   ]
  },
  {
   "cell_type": "code",
   "execution_count": 18,
   "id": "c5c755d3-43f2-4fea-ad39-daa5aa1c61ab",
   "metadata": {},
   "outputs": [
    {
     "name": "stdout",
     "output_type": "stream",
     "text": [
      "Freezing non-LoRA parameter linear1.bias\n",
      "Freezing non-LoRA parameter linear1.parametrizations.weight.original\n",
      "Freezing non-LoRA parameter linear2.bias\n",
      "Freezing non-LoRA parameter linear2.parametrizations.weight.original\n",
      "Freezing non-LoRA parameter linear3.bias\n",
      "Freezing non-LoRA parameter linear3.parametrizations.weight.original\n"
     ]
    },
    {
     "name": "stderr",
     "output_type": "stream",
     "text": [
      "Epoch 0:  99%|███████████████████████████████████████████████████████████▍| 99/100 [00:02<00:00, 45.64it/s, loss=0.411]\n"
     ]
    }
   ],
   "source": [
    "# Freeze the non-Lora parameters\n",
    "for name, param in net.named_parameters():\n",
    "    if 'lora' not in name:\n",
    "        print(f'Freezing non-LoRA parameter {name}')\n",
    "        param.requires_grad = False\n",
    "\n",
    "# Load the MNIST dataset again, by keeping only the digit 9\n",
    "mnist_trainset = datasets.MNIST(root='./data', train=True, download=True, transform=transform)\n",
    "exclude_indices = mnist_trainset.targets == 9\n",
    "mnist_trainset.data = mnist_trainset.data[exclude_indices]\n",
    "mnist_trainset.targets = mnist_trainset.targets[exclude_indices]\n",
    "# Create a dataloader for the training\n",
    "train_loader = torch.utils.data.DataLoader(mnist_trainset, batch_size=10, shuffle=True)\n",
    "\n",
    "# Train the network with LoRA only on the digit 9 and only for 100 batches (hoping that it would improve the performance on the digit 9)\n",
    "train(train_loader, net, epochs=1, num_iters=100)"
   ]
  },
  {
   "cell_type": "code",
   "execution_count": 19,
   "id": "fe2f9655-06ce-43e4-a363-43ddc28fa70c",
   "metadata": {},
   "outputs": [],
   "source": [
    "# Check that the frozen parameters are still unchanged by the finetuning\n",
    "assert torch.all(net.linear1.parametrizations.weight.original == original_weights['linear1.weight'])\n",
    "assert torch.all(net.linear2.parametrizations.weight.original == original_weights['linear2.weight'])\n",
    "assert torch.all(net.linear3.parametrizations.weight.original == original_weights['linear3.weight'])\n",
    "\n",
    "enable_disable_lora(enabled=True)\n",
    "# The new linear1.weight is obtained by the \"forward\" function of our LoRA parametrization\n",
    "# The original weights have been moved to net.linear1.parametrizations.weight.original\n",
    "# More info here: https://pytorch.org/tutorials/intermediate/parametrizations.html#inspecting-a-parametrized-module\n",
    "assert torch.equal(net.linear1.weight, net.linear1.parametrizations.weight.original + (net.linear1.parametrizations.weight[0].lora_B @ net.linear1.parametrizations.weight[0].lora_A) * net.linear1.parametrizations.weight[0].scale)\n",
    "\n",
    "enable_disable_lora(enabled=False)\n",
    "# If we disable LoRA, the linear1.weight is the original one\n",
    "assert torch.equal(net.linear1.weight, original_weights['linear1.weight'])"
   ]
  },
  {
   "cell_type": "code",
   "execution_count": 21,
   "id": "6b872010-e037-4e79-bb4c-cbbcd5ba59f9",
   "metadata": {},
   "outputs": [
    {
     "name": "stderr",
     "output_type": "stream",
     "text": [
      "100%|██████████████████████████████████████████████████████████████████████████████| 1000/1000 [00:15<00:00, 64.78it/s]"
     ]
    },
    {
     "name": "stdout",
     "output_type": "stream",
     "text": [
      "Accuracy: 0.954\n",
      "wrong counts for the digit 0: 12\n",
      "wrong counts for the digit 1: 19\n",
      "wrong counts for the digit 2: 36\n",
      "wrong counts for the digit 3: 92\n",
      "wrong counts for the digit 4: 29\n",
      "wrong counts for the digit 5: 41\n",
      "wrong counts for the digit 6: 38\n",
      "wrong counts for the digit 7: 47\n",
      "wrong counts for the digit 8: 35\n",
      "wrong counts for the digit 9: 115\n"
     ]
    },
    {
     "name": "stderr",
     "output_type": "stream",
     "text": [
      "\n"
     ]
    }
   ],
   "source": [
    "# Test with LoRA enabled\n",
    "enable_disable_lora(enabled=True)\n",
    "test(test_loader, net)"
   ]
  },
  {
   "cell_type": "code",
   "execution_count": null,
   "id": "7da927cc-3f7e-4374-afb4-db9909d55881",
   "metadata": {},
   "outputs": [
    {
     "name": "stderr",
     "output_type": "stream",
     "text": [
      " 25%|███████████████████▊                                                           | 251/1000 [00:02<00:08, 88.47it/s]"
     ]
    }
   ],
   "source": [
    "# Test with LoRA disabled\n",
    "enable_disable_lora(enabled=False)\n",
    "test(test_loader, net)"
   ]
  },
  {
   "cell_type": "code",
   "execution_count": null,
   "id": "b9bdf79e-74f9-40dc-ac52-287c8a3d6128",
   "metadata": {},
   "outputs": [],
   "source": []
  },
  {
   "cell_type": "code",
   "execution_count": null,
   "id": "85dc9610-94e6-44a8-a507-e2cc77a0d490",
   "metadata": {},
   "outputs": [],
   "source": []
  }
 ],
 "metadata": {
  "kernelspec": {
   "display_name": "Python 3 (ipykernel)",
   "language": "python",
   "name": "python3"
  },
  "language_info": {
   "codemirror_mode": {
    "name": "ipython",
    "version": 3
   },
   "file_extension": ".py",
   "mimetype": "text/x-python",
   "name": "python",
   "nbconvert_exporter": "python",
   "pygments_lexer": "ipython3",
   "version": "3.10.13"
  }
 },
 "nbformat": 4,
 "nbformat_minor": 5
}
