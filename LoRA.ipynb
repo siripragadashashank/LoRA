{
 "cells": [
  {
   "cell_type": "markdown",
   "id": "e24d3f8f-be8b-4f91-ba74-487fba661f51",
   "metadata": {},
   "source": [
    "## LoRA implementation with PyTorch"
   ]
  },
  {
   "cell_type": "code",
   "execution_count": 1,
   "id": "dc474914-92d3-42a5-8be3-3dfc59556e80",
   "metadata": {},
   "outputs": [],
   "source": [
    "import torch\n",
    "import torchvision.datasets as datasets \n",
    "import torchvision.transforms as transforms\n",
    "import torch.nn as nn\n",
    "import matplotlib.pyplot as plt\n",
    "from tqdm import tqdm"
   ]
  },
  {
   "cell_type": "code",
   "execution_count": 2,
   "id": "ff418cb3-3851-4c62-b9d8-8fc0236593b6",
   "metadata": {},
   "outputs": [],
   "source": [
    "# Make torch deterministic\n",
    "_ = torch.manual_seed(0)"
   ]
  },
  {
   "cell_type": "markdown",
   "id": "b8f010ad-b403-4bb2-818b-cb6a13e5ef36",
   "metadata": {},
   "source": [
    "### We will be training a network to classify MNIST digits and then fine-tune the network on a particular digit on which it doesn't perform well."
   ]
  },
  {
   "cell_type": "code",
   "execution_count": 3,
   "id": "114d5fd6-95de-4832-a32a-8353ad4961d9",
   "metadata": {},
   "outputs": [],
   "source": [
    "transform = transforms.Compose([transforms.ToTensor(), transforms.Normalize((0.1307,), (0.3081,))])\n",
    "\n",
    "# Load the MNIST dataset\n",
    "mnist_trainset = datasets.MNIST(root='./data', \n",
    "                                train=True, \n",
    "                                download=True, \n",
    "                                transform=transform)\n",
    "\n",
    "# Create a dataloader for the training\n",
    "train_loader = torch.utils.data.DataLoader(mnist_trainset, \n",
    "                                           batch_size=10, \n",
    "                                           shuffle=True)\n",
    "\n",
    "# Load the MNIST test set\n",
    "mnist_testset = datasets.MNIST(root='./data', \n",
    "                               train=False, \n",
    "                               download=True, \n",
    "                               transform=transform)\n",
    "\n",
    "test_loader = torch.utils.data.DataLoader(mnist_testset, batch_size=10, shuffle=True)\n",
    "\n",
    "# Define the device\n",
    "device = torch.device(\"cuda:0\" if torch.cuda.is_available() else \"cpu\")"
   ]
  },
  {
   "cell_type": "markdown",
   "id": "7cee35d3-f367-4d26-90f9-7236f6ac7047",
   "metadata": {},
   "source": [
    "### Create the Neural Network to classify the digits, making it deep (more parameters) to better show the power of LoRA"
   ]
  },
  {
   "cell_type": "code",
   "execution_count": 4,
   "id": "1d33e03b-0d32-40aa-b1ad-90812e6ac8f3",
   "metadata": {},
   "outputs": [],
   "source": [
    "# Create an deep neural network to classify MNIST digits\n",
    "\n",
    "class NNet(nn.Module):\n",
    "    def __init__(self, hidden_size_1=1000, hidden_size_2=2000):\n",
    "        super(NNet,self).__init__()\n",
    "        self.linear1 = nn.Linear(28*28, hidden_size_1) \n",
    "        self.linear2 = nn.Linear(hidden_size_1, hidden_size_2) \n",
    "        self.linear3 = nn.Linear(hidden_size_2, 10)\n",
    "        self.relu = nn.ReLU()\n",
    "\n",
    "    def forward(self, img):\n",
    "        x = img.view(-1, 28*28)\n",
    "        x = self.relu(self.linear1(x))\n",
    "        x = self.relu(self.linear2(x))\n",
    "        x = self.linear3(x)\n",
    "        return x\n",
    "\n",
    "net = NNet().to(device)"
   ]
  },
  {
   "cell_type": "code",
   "execution_count": 5,
   "id": "fcbf4c04-9801-4d06-be65-6bd4a3dec0cf",
   "metadata": {},
   "outputs": [
    {
     "data": {
      "text/plain": [
       "NNet(\n",
       "  (linear1): Linear(in_features=784, out_features=1000, bias=True)\n",
       "  (linear2): Linear(in_features=1000, out_features=2000, bias=True)\n",
       "  (linear3): Linear(in_features=2000, out_features=10, bias=True)\n",
       "  (relu): ReLU()\n",
       ")"
      ]
     },
     "execution_count": 5,
     "metadata": {},
     "output_type": "execute_result"
    }
   ],
   "source": [
    "net"
   ]
  },
  {
   "cell_type": "markdown",
   "id": "ac2c9bec-ff4b-4250-aa91-58ddaf2f478e",
   "metadata": {},
   "source": [
    "A scaled down representation of the neural network"
   ]
  },
  {
   "cell_type": "markdown",
   "id": "6c41843f-2cfc-4a5b-ba23-dbe46ab8a4a2",
   "metadata": {},
   "source": [
    "<div style=\"width: 1200px;\">Neural Network scaled down</div>\n",
    "<center><img src=\"./assets/nn.svg\" width=\"1200\"></center>"
   ]
  },
  {
   "cell_type": "markdown",
   "id": "70efc1eb-05b0-40d4-b892-af840b9db8e6",
   "metadata": {},
   "source": [
    "### Set the optimizer and loss for our network training."
   ]
  },
  {
   "cell_type": "code",
   "execution_count": 6,
   "id": "6946dd39-d63a-4ad4-9cd7-1a1e0543b5de",
   "metadata": {},
   "outputs": [],
   "source": [
    "loss_fn = nn.CrossEntropyLoss()\n",
    "optimizer = torch.optim.Adam(net.parameters(), lr=1e-3)"
   ]
  },
  {
   "cell_type": "markdown",
   "id": "e55723f4-e89a-460b-87a5-835dc789f761",
   "metadata": {},
   "source": [
    "#### Training function"
   ]
  },
  {
   "cell_type": "markdown",
   "id": "ae893cb4-18c3-4a40-9984-025ef800bdfb",
   "metadata": {},
   "source": [
    "Training for 1 epoch to get some pretraining on the data, so that we can fine-tune later."
   ]
  },
  {
   "cell_type": "code",
   "execution_count": 7,
   "id": "e8439534-8368-40a2-9ab9-1bde55964e60",
   "metadata": {},
   "outputs": [
    {
     "name": "stderr",
     "output_type": "stream",
     "text": [
      "Epoch {epoch}: 100%|██████████████████████████████████████████████████| 6000/6000 [00:32<00:00, 182.93it/s, loss=0.238]\n"
     ]
    }
   ],
   "source": [
    "def train(train_loader, net, epochs=1, num_iters=None):\n",
    "    for epoch in range(epochs):\n",
    "        net.train()\n",
    "        total_loss = 0\n",
    "        iterations = 0\n",
    "        train_data = tqdm(train_loader, desc='Epoch {epoch}')\n",
    "        for data in train_data:\n",
    "            optimizer.zero_grad()\n",
    "            iterations += 1\n",
    "            X, y = data\n",
    "            X, y = X.to(device), y.to(device)\n",
    "            output = net(X.view(-1, 28*28))\n",
    "            loss = loss_fn(output, y)\n",
    "            total_loss += loss.item()\n",
    "            running_loss = total_loss / iterations\n",
    "            train_data.set_postfix(loss=running_loss)\n",
    "            loss.backward()\n",
    "            optimizer.step()\n",
    "            \n",
    "                    \n",
    "train(train_loader, net, epochs=1)"
   ]
  },
  {
   "cell_type": "markdown",
   "id": "ead79900-6216-4747-9af5-84d5c3e20fdf",
   "metadata": {},
   "source": [
    "### Keep a copy of the original weights (cloning them) so later we can prove that a fine-tuning with LoRA doesn't alter the original weights\r\n"
   ]
  },
  {
   "cell_type": "code",
   "execution_count": 8,
   "id": "77bd94b6-e473-4654-a569-017edcc20c59",
   "metadata": {},
   "outputs": [],
   "source": [
    "original_weights = {}\n",
    "for name, param in net.named_parameters():\n",
    "    original_weights[name] = param.clone().detach()"
   ]
  },
  {
   "cell_type": "code",
   "execution_count": 10,
   "id": "1cc2817a-a099-44d6-a8b6-d16c6bd198d8",
   "metadata": {},
   "outputs": [
    {
     "data": {
      "text/plain": [
       "dict_keys(['linear1.weight', 'linear1.bias', 'linear2.weight', 'linear2.bias', 'linear3.weight', 'linear3.bias'])"
      ]
     },
     "execution_count": 10,
     "metadata": {},
     "output_type": "execute_result"
    }
   ],
   "source": [
    "original_weights.keys()"
   ]
  },
  {
   "cell_type": "markdown",
   "id": "8b449520-3299-4cc3-88b5-f015fa7bf43d",
   "metadata": {},
   "source": [
    "#### Get the number of parameters in the neural net"
   ]
  },
  {
   "cell_type": "code",
   "execution_count": 19,
   "id": "3d4020cb-7b28-4b8f-8e63-d2d20fdb44a1",
   "metadata": {},
   "outputs": [
    {
     "name": "stdout",
     "output_type": "stream",
     "text": [
      "Layer: linear1.weight Shape: torch.Size([1000, 784])\n",
      "Layer: linear1.bias Shape: torch.Size([1000])\n",
      "Layer: linear2.weight Shape: torch.Size([2000, 1000])\n",
      "Layer: linear2.bias Shape: torch.Size([2000])\n",
      "Layer: linear3.weight Shape: torch.Size([10, 2000])\n",
      "Layer: linear3.bias Shape: torch.Size([10])\n",
      "\n",
      "Total number of trainable params in Original neural net: 2807010\n"
     ]
    }
   ],
   "source": [
    "def get_param_count(neural_net):\n",
    "    param_count = 0\n",
    "    for name, param in neural_net.named_parameters():\n",
    "        print(f'Layer: {name} Shape: {param.shape}')\n",
    "        param_count += param.nelement()\n",
    "    return param_count\n",
    "param_count = get_param_count(neural_net=net)\n",
    "print(f'\\nTotal number of trainable params in Original neural net: {param_count}')"
   ]
  },
  {
   "cell_type": "code",
   "execution_count": 20,
   "id": "62acd3fb-98fc-481a-80aa-b24020a69694",
   "metadata": {},
   "outputs": [
    {
     "ename": "SyntaxError",
     "evalue": "incomplete input (496762470.py, line 6)",
     "output_type": "error",
     "traceback": [
      "\u001b[1;36m  Cell \u001b[1;32mIn[20], line 6\u001b[1;36m\u001b[0m\n\u001b[1;33m    \u001b[0m\n\u001b[1;37m    ^\u001b[0m\n\u001b[1;31mSyntaxError\u001b[0m\u001b[1;31m:\u001b[0m incomplete input\n"
     ]
    }
   ],
   "source": [
    "# Testing on the testset to validate performance\n",
    "def test(test_loader):\n",
    "\n",
    "    with torch.no_grad():\n",
    "        \n",
    "        \n",
    "    "
   ]
  },
  {
   "cell_type": "code",
   "execution_count": null,
   "id": "199d5be0-e876-4a44-9b4e-a5338d6a0f0c",
   "metadata": {},
   "outputs": [],
   "source": []
  }
 ],
 "metadata": {
  "kernelspec": {
   "display_name": "Python 3 (ipykernel)",
   "language": "python",
   "name": "python3"
  },
  "language_info": {
   "codemirror_mode": {
    "name": "ipython",
    "version": 3
   },
   "file_extension": ".py",
   "mimetype": "text/x-python",
   "name": "python",
   "nbconvert_exporter": "python",
   "pygments_lexer": "ipython3",
   "version": "3.10.13"
  }
 },
 "nbformat": 4,
 "nbformat_minor": 5
}
